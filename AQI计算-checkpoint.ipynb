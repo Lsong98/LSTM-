{
 "cells": [
  {
   "cell_type": "code",
   "execution_count": 18,
   "metadata": {},
   "outputs": [],
   "source": [
    "import pandas as pd\n",
    "import numpy as np"
   ]
  },
  {
   "cell_type": "code",
   "execution_count": 19,
   "metadata": {},
   "outputs": [],
   "source": [
    "IAQI_CLASS = None\n",
    "POLLUTANTS_CLASS = [\"SO2\", \"NO2\", \"PM10\", \"PM2.5\", \"O3\", \"CO\"]\n",
    "QUALITY = {\n",
    "    \"优\": [0, 50],\n",
    "    \"良\": [51, 100],\n",
    "    \"轻度污染\": [101, 150],\n",
    "    \"中度污染\": [151, 200],\n",
    "    \"重度污染\": [201, 300],\n",
    "    \"严重污染\": [301, np.inf]\n",
    "}"
   ]
  },
  {
   "cell_type": "code",
   "execution_count": 20,
   "metadata": {
    "scrolled": true
   },
   "outputs": [
    {
     "name": "stdout",
     "output_type": "stream",
     "text": [
      "None\n",
      "['SO2', 'NO2', 'PM10', 'PM2.5', 'O3', 'CO']\n",
      "{'优': [0, 50], '良': [51, 100], '轻度污染': [101, 150], '中度污染': [151, 200], '重度污染': [201, 300], '严重污染': [301, inf]}\n"
     ]
    }
   ],
   "source": [
    "#print(IAQI_CLASS)\n",
    "#print(POLLUTANTS_CLASS)\n",
    "#print(QUALITY)"
   ]
  },
  {
   "cell_type": "code",
   "execution_count": 22,
   "metadata": {},
   "outputs": [
    {
     "ename": "IndentationError",
     "evalue": "unexpected indent (<ipython-input-22-1afd80af564d>, line 4)",
     "output_type": "error",
     "traceback": [
      "\u001b[1;36m  File \u001b[1;32m\"<ipython-input-22-1afd80af564d>\"\u001b[1;36m, line \u001b[1;32m4\u001b[0m\n\u001b[1;33m    global IAQI_CLASS\u001b[0m\n\u001b[1;37m    ^\u001b[0m\n\u001b[1;31mIndentationError\u001b[0m\u001b[1;31m:\u001b[0m unexpected indent\n"
     ]
    }
   ],
   "source": [
    "def read_IAQI_CLASS(filename='data_1_knn.xlsx',sheet_name='监测点A逐小时污染物浓度与气象一次预报数据'):\n",
    "    data = pd.read_excel(filename)\n",
    "print(\"data:\", data)\n",
    "    global IAQI_CLASS\n",
    "    IAQI_CLASS = data.to_numpy()[:,1:]\n",
    "print(\"IAQI_CLASS.shape:\", IAQI_CLASS.shape)\n",
    "print(IAQI_CLASS)"
   ]
  },
  {
   "cell_type": "code",
   "execution_count": null,
   "metadata": {},
   "outputs": [],
   "source": [
    "def cal_AQI(data):\n",
    "    data = data[0][2:]\n",
    "    IAQI = np.zeros(6) \n",
    "    for i in range(6):\n",
    "        C_P = data[i]\n",
    "        for j in range(6):\n",
    "            if IAQI_CLASS[i+1][j] - C_P > 0:            \n",
    "                BP_Hi = IAQI_CLASS[i+1][j]\n",
    "                BP_Lo = IAQI_CLASS[i+1][j-1]\n",
    "                IAQI_Hi = IAQI_CLASS[0][j]\n",
    "                IAQI_Lo = IAQI_CLASS[0][j-1]\n",
    "                break\n",
    "        IAQI[i] = int((IAQI_Hi - IAQI_Lo) / (BP_Hi - BP_Lo) * (C_P - BP_Lo) + IAQI_Lo)\n",
    "    print(\"IAQI:\", IAQI)\n",
    "    AQI = np.max(IAQI)\n",
    "    polltant = POLLUTANTS_CLASS[np.where(IAQI == AQI)[0][0]]\n",
    "    quality = \"\"\n",
    "    for key in list(QUALITY.keys()):\n",
    "        if AQI > QUALITY[key][0] and AQI < QUALITY[key][1]:\n",
    "            quality = key\n",
    "            break\n",
    "    return AQI, polltant, quality"
   ]
  },
  {
   "cell_type": "code",
   "execution_count": null,
   "metadata": {},
   "outputs": [],
   "source": [
    "def read_data(filename = None, sheetname = None, datetime=None):\n",
    "    data = pd.read_excel(filename, sheetname)\n",
    "    print(data[data['监测日期'] == datetime])\n",
    "    return data[data['监测日期'] == datetime].to_numpy()"
   ]
  },
  {
   "cell_type": "code",
   "execution_count": null,
   "metadata": {},
   "outputs": [],
   "source": [
    "if __name__ == '__main__':\n",
    "    read_IAQI_CLASS()\n",
    "    filename = '附件1 监测点A空气质量预报基础数据.xlsx'\n",
    "    sheetname = '监测点A逐日污染物浓度实测数据'\n",
    "    date_list = ['2020-08-25', '2020-08-26', '2020-08-27', '2020-08-28']\n",
    "    for date in date_list:\n",
    "        data = read_data(filename, sheetname, date)\n",
    "        if np.NaN in data:\n",
    "            continue\n",
    "        print(\"###################\")\n",
    "        print(\"date\", date, \"AQI:\", cal_AQI(data))"
   ]
  }
 ],
 "metadata": {
  "kernelspec": {
   "display_name": "Python 3",
   "language": "python",
   "name": "python3"
  },
  "language_info": {
   "codemirror_mode": {
    "name": "ipython",
    "version": 3
   },
   "file_extension": ".py",
   "mimetype": "text/x-python",
   "name": "python",
   "nbconvert_exporter": "python",
   "pygments_lexer": "ipython3",
   "version": "3.8.5"
  }
 },
 "nbformat": 4,
 "nbformat_minor": 4
}
